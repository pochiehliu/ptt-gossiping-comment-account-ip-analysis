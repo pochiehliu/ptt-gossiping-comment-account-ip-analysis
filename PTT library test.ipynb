{
 "cells": [
  {
   "cell_type": "code",
   "execution_count": 73,
   "metadata": {},
   "outputs": [],
   "source": [
    "import sys\n",
    "import json\n",
    "import getpass\n",
    "from PTTLibrary import PTT\n",
    "# https://github.com/Truth0906/PTTLibrary"
   ]
  },
  {
   "cell_type": "markdown",
   "metadata": {},
   "source": [
    "#### Login"
   ]
  },
  {
   "cell_type": "code",
   "execution_count": 14,
   "metadata": {},
   "outputs": [
    {
     "name": "stdout",
     "output_type": "stream",
     "text": [
      "[07-01 10:21:13][資訊] 偵測到前景執行使用編碼: cp950\n",
      "[07-01 10:21:13][資訊] 產生 SSH 金鑰完成\n"
     ]
    }
   ],
   "source": [
    "try:\n",
    "    with open('Account.txt') as info:\n",
    "        account = json.load(info)\n",
    "        ID = account['ID']\n",
    "        Password = account['Password']\n",
    "except:\n",
    "    ID = input('ID: ')\n",
    "    Password = getpass.getpass('Password: ')"
   ]
  },
  {
   "cell_type": "code",
   "execution_count": 17,
   "metadata": {},
   "outputs": [
    {
     "name": "stdout",
     "output_type": "stream",
     "text": [
      "[07-01 10:26:02][資訊] 使用者帳號: pochen0\n",
      "[07-01 10:26:02][資訊] 密碼: ******\n",
      "[07-01 10:26:02][資訊] 連線頻道 0 重啟\n",
      "[07-01 10:26:07][資訊] 頻道 0 建立互動通道成功\n",
      "[07-01 10:26:08][資訊] 頻道 0 讀取 PTT 畫面..\n",
      "[07-01 10:26:08][資訊] 頻道 0 輸入帳號\n",
      "[07-01 10:26:08][資訊] 頻道 0 輸入密碼\n",
      "[07-01 10:26:08][資訊] 頻道 0 讀取 PTT 畫面..\n",
      "[07-01 10:26:09][資訊] 頻道 0 刪除重複登入的連線\n",
      "[07-01 10:26:13][資訊] 任意鍵繼續\n",
      "[07-01 10:26:13][資訊] 頻道 0 登入成功\n"
     ]
    }
   ],
   "source": [
    "PTTBot = PTT.Library(kickOtherLogin=False)\n",
    "ErrCode = PTTBot.login(ID,Password)\n",
    "if ErrCode != PTT.ErrorCode.Success:\n",
    "    PTTBot.Log('登入失敗')\n",
    "    sys.exit()"
   ]
  },
  {
   "cell_type": "code",
   "execution_count": 16,
   "metadata": {},
   "outputs": [
    {
     "name": "stdout",
     "output_type": "stream",
     "text": [
      "[07-01 10:23:44][資訊] 準備登出所有頻道\n",
      "[07-01 10:23:45][資訊] 頻道 0 登出成功\n"
     ]
    },
    {
     "data": {
      "text/plain": [
       "0"
      ]
     },
     "execution_count": 16,
     "metadata": {},
     "output_type": "execute_result"
    }
   ],
   "source": [
    "PTTBot.logout()"
   ]
  },
  {
   "cell_type": "markdown",
   "metadata": {},
   "source": [
    "#### Get post with postindex"
   ]
  },
  {
   "cell_type": "code",
   "execution_count": 18,
   "metadata": {},
   "outputs": [],
   "source": [
    "ErrCode, Post = PTTBot.getPost('Gossiping', PostIndex=780362)"
   ]
  },
  {
   "cell_type": "code",
   "execution_count": 20,
   "metadata": {},
   "outputs": [],
   "source": [
    "assert ErrCode == 0"
   ]
  },
  {
   "cell_type": "markdown",
   "metadata": {},
   "source": [
    "#### API\n",
    "Post related API\n",
    "* getBoard\t文章所在的版 (Wanted)\n",
    "* getID\t文章 ID ex: 1PCBfel1\n",
    "* getAuthor\t作者\n",
    "* getDate\t文章發布時間\n",
    "* getTitle\t文章標題\n",
    "* getContent\t文章內文\n",
    "* getMoney\t文章 P 幣\n",
    "* getWebUrl\t文章網址\n",
    "* getPushList\t文章即時推文清單\n",
    "* getOriginalData\t文章原始資料 (備份色碼用)\n",
    "\n",
    "Push related API\n",
    "* getType\t推文類別 推噓箭頭\n",
    "* getAuthor\t推文 ID\n",
    "* getContent\t推文內文\n",
    "* getIP\t推文IP (如果存在)\n",
    "* getTime\t推文時間"
   ]
  },
  {
   "cell_type": "code",
   "execution_count": 30,
   "metadata": {},
   "outputs": [
    {
     "name": "stdout",
     "output_type": "stream",
     "text": [
      "1T6Wyto4\n",
      "f12345678900 (旅行的意義)\n",
      "Mon Jul  1 21:48:34 2019\n",
      "[爆卦] 正式佔領立法會\n",
      "https://www.ptt.cc/bbs/Gossiping/M.1561988919.A.C84.html\n"
     ]
    }
   ],
   "source": [
    "print(Post.getID())\n",
    "print(Post.getAuthor())\n",
    "print(Post.getDate())\n",
    "print(Post.getTitle())\n",
    "print(Post.getWebUrl())"
   ]
  },
  {
   "cell_type": "markdown",
   "metadata": {},
   "source": [
    "#### User define function"
   ]
  },
  {
   "cell_type": "code",
   "execution_count": 62,
   "metadata": {},
   "outputs": [],
   "source": [
    "def postInfo(post):\n",
    "    PTTBot.Log('文章代碼: ' + post.getID())\n",
    "    PTTBot.Log('作者: ' + post.getAuthor())\n",
    "    PTTBot.Log('標題: ' + post.getTitle())\n",
    "    PTTBot.Log('時間: ' + post.getDate())\n",
    "    PTTBot.Log('IP: ' + post.getIP())\n",
    "    PTTBot.Log('網址: ' + post.getWebUrl())\n",
    "    \n",
    "    PushCount = 0\n",
    "    BooCount = 0\n",
    "    ArrowCount = 0\n",
    "    \n",
    "    for push in Post.getPushList():\n",
    "        if push.getType() == PTT.PushType.Push:\n",
    "            PushCount += 1\n",
    "        elif push.getType() == PTT.PushType.Boo:\n",
    "            BooCount += 1\n",
    "        elif push.getType() == PTT.PushType.Arrow:\n",
    "            ArrowCount += 1\n",
    "        author = push.getAuthor()\n",
    "        cont = push.getContent()\n",
    "        IP = push.getIP()\n",
    "    PTTBot.Log('推文數: ' + str(PushCount))\n",
    "    PTTBot.Log('噓文數: ' + str(BooCount))\n",
    "    PTTBot.Log('箭頭數: ' + str(ArrowCount))\n",
    "    "
   ]
  },
  {
   "cell_type": "code",
   "execution_count": 63,
   "metadata": {},
   "outputs": [
    {
     "name": "stdout",
     "output_type": "stream",
     "text": [
      "[07-01 11:23:10][資訊] 文章代碼: 1T6XxEUA\n",
      "[07-01 11:23:10][資訊] 作者: aotfs2013 (小隻釋迦)\n",
      "[07-01 11:23:10][資訊] 標題: [爆卦] 香港警方宣布短時間內清場\n",
      "[07-01 11:23:10][資訊] 時間: Mon Jul  1 22:55:06 2019\n",
      "[07-01 11:23:10][資訊] IP: 1.163.61.85\n",
      "[07-01 11:23:10][資訊] 網址: https://www.ptt.cc/bbs/Gossiping/M.1561992910.A.78A.html\n",
      "[07-01 11:23:10][資訊] 推文數: 150\n",
      "[07-01 11:23:10][資訊] 噓文數: 12\n",
      "[07-01 11:23:10][資訊] 箭頭數: 72\n"
     ]
    }
   ],
   "source": [
    "postInfo(Post)"
   ]
  },
  {
   "cell_type": "markdown",
   "metadata": {},
   "source": [
    "#### Apply search condition"
   ]
  },
  {
   "cell_type": "code",
   "execution_count": 58,
   "metadata": {},
   "outputs": [],
   "source": [
    "# search type [keyword, Author, Push, Mark, Money]\n",
    "inputSearchType = PTT.PostSearchType.Push\n",
    "# condition\n",
    "inputSearch = 100\n",
    "# search, return index\n",
    "ErrCode, NewestIndex = PTTBot.getNewestIndex('Gossiping', \n",
    "                                             SearchType=inputSearchType, \n",
    "                                             Search=inputSearch)\n",
    "assert ErrCode == 0\n",
    "# fetch content with index\n",
    "ErrCode, Post = PTTBot.getPost('Gossiping', \n",
    "                               PostIndex=NewestIndex, \n",
    "                               SearchType=inputSearchType, \n",
    "                               Search=inputSearch)\n",
    "assert ErrCode ==0"
   ]
  },
  {
   "cell_type": "code",
   "execution_count": 64,
   "metadata": {},
   "outputs": [
    {
     "data": {
      "text/plain": [
       "16505"
      ]
     },
     "execution_count": 64,
     "metadata": {},
     "output_type": "execute_result"
    }
   ],
   "source": [
    "NewestIndex"
   ]
  },
  {
   "cell_type": "code",
   "execution_count": 65,
   "metadata": {},
   "outputs": [
    {
     "name": "stdout",
     "output_type": "stream",
     "text": [
      "[07-01 11:26:57][資訊] 文章代碼: 1T6XxEUA\n",
      "[07-01 11:26:57][資訊] 作者: aotfs2013 (小隻釋迦)\n",
      "[07-01 11:26:57][資訊] 標題: [爆卦] 香港警方宣布短時間內清場\n",
      "[07-01 11:26:57][資訊] 時間: Mon Jul  1 22:55:06 2019\n",
      "[07-01 11:26:57][資訊] IP: 1.163.61.85\n",
      "[07-01 11:26:57][資訊] 網址: https://www.ptt.cc/bbs/Gossiping/M.1561992910.A.78A.html\n",
      "[07-01 11:26:57][資訊] 推文數: 150\n",
      "[07-01 11:26:57][資訊] 噓文數: 12\n",
      "[07-01 11:26:57][資訊] 箭頭數: 72\n"
     ]
    }
   ],
   "source": [
    "postInfo(Post)"
   ]
  },
  {
   "cell_type": "markdown",
   "metadata": {},
   "source": [
    "#### Crawl posts"
   ]
  },
  {
   "cell_type": "code",
   "execution_count": 88,
   "metadata": {},
   "outputs": [],
   "source": [
    "def PostHandler(Post):\n",
    "    with codecs.open(\"CrawlBoardResult.txt\", \"a\", \"utf-8\") as ResultFile:\n",
    "        ResultFile.write('PostID: ' + Post.getID() + ' ' + Post.getTitle() + '\\n')"
   ]
  },
  {
   "cell_type": "code",
   "execution_count": 89,
   "metadata": {},
   "outputs": [
    {
     "name": "stdout",
     "output_type": "stream",
     "text": [
      "[07-01 11:54:26][資訊] Successfully retrive the lastest post index: 16506\n",
      "[07-01 11:54:27][資訊] 總爬行文章: 10 篇\n",
      "[07-01 11:54:27][資訊] 連線頻道 0 Gossiping 爬行 16497 16507\n"
     ]
    },
    {
     "name": "stderr",
     "output_type": "stream",
     "text": [
      "100% (10 of 10) |########################| Elapsed Time: 0:00:51 Time:  0:00:51\n"
     ]
    },
    {
     "name": "stdout",
     "output_type": "stream",
     "text": [
      "[07-01 11:55:25][資訊] Crawl completed with 10 posts, and  0 posts were deleted\n"
     ]
    }
   ],
   "source": [
    "# number of post to crawl\n",
    "CrawlPost = 10\n",
    "\n",
    "inputSearchType = PTT.PostSearchType.Push\n",
    "inputSearch = 100\n",
    "\n",
    "# find latest index\n",
    "ErrCode, NewestIndex = PTTBot.getNewestIndex(Board='Gossiping',\n",
    "                                             SearchType=inputSearchType, \n",
    "                                             Search=inputSearch)\n",
    "\n",
    "# check\n",
    "if ErrCode == PTT.ErrorCode.Success:\n",
    "    PTTBot.Log('Successfully retrive the lastest post index: ' + str(NewestIndex))\n",
    "else:\n",
    "    PTTBot.Log('Fail to retrive the lastest post index: ' + str(NewestIndex))\n",
    "    sys.exit()\n",
    "\n",
    "ErrCode, SuccessCount, DeleteCount = PTTBot.crawlBoard('Gossiping', \n",
    "                                                       PostHandler, \n",
    "                                                       StartIndex=NewestIndex - CrawlPost + 1, \n",
    "                                                       EndIndex=NewestIndex, \n",
    "                                                       SearchType=inputSearchType, \n",
    "                                                       Search=inputSearch)\n",
    "\n",
    "if ErrCode == PTT.ErrorCode.Success:\n",
    "    PTTBot.Log('Crawl completed with ' + str(SuccessCount) + ' posts, and  ' + str(DeleteCount) + ' posts were deleted')\n"
   ]
  },
  {
   "cell_type": "code",
   "execution_count": 102,
   "metadata": {},
   "outputs": [
    {
     "name": "stdout",
     "output_type": "stream",
     "text": [
      "PostID: 1T6VzxrP [新聞] 父驟逝 遺囑大三子「照顧病母及憨弟」\n",
      "\n",
      "PostID: 1T6WGdKJ [爆卦] 香港人衝進立法會了！！！\n",
      "\n",
      "PostID: 1T6WvWbb [爆卦] 香港人塗黑特區標誌了\n",
      "\n",
      "PostID: 1T6Wyto4 [爆卦] 正式佔領立法會\n",
      "\n",
      "PostID: 1T6XHiBg Re: [爆卦] 正式佔領立法會\n",
      "\n",
      "PostID: 1T6XdFCP [爆卦] 香港警方即將清場立法會\n",
      "\n",
      "PostID: 1T6Xj313 [問卦] 能幫小魏加油嗎？（發錢）\n",
      "\n",
      "PostID: 1T6XxEUA [爆卦] 香港警方宣布短時間內清場\n",
      "\n",
      "PostID: 1T6YL74t [問卦] 現在要怎麼支持香港反送中活動？\n",
      "\n",
      "PostID: 1T6YQup3 [爆卦] 香港立院最新情況 只有4名死士留守\n",
      "\n"
     ]
    }
   ],
   "source": [
    "with codecs.open(\"CrawlBoardResult.txt\", \"r\", \"utf-8\") as f:\n",
    "    for line in f:\n",
    "        print(line)"
   ]
  },
  {
   "cell_type": "code",
   "execution_count": null,
   "metadata": {},
   "outputs": [],
   "source": []
  },
  {
   "cell_type": "code",
   "execution_count": null,
   "metadata": {},
   "outputs": [],
   "source": []
  },
  {
   "cell_type": "code",
   "execution_count": null,
   "metadata": {},
   "outputs": [],
   "source": []
  }
 ],
 "metadata": {
  "kernelspec": {
   "display_name": "test_env",
   "language": "python",
   "name": "test_env"
  },
  "language_info": {
   "codemirror_mode": {
    "name": "ipython",
    "version": 3
   },
   "file_extension": ".py",
   "mimetype": "text/x-python",
   "name": "python",
   "nbconvert_exporter": "python",
   "pygments_lexer": "ipython3",
   "version": "3.7.3"
  }
 },
 "nbformat": 4,
 "nbformat_minor": 2
}
